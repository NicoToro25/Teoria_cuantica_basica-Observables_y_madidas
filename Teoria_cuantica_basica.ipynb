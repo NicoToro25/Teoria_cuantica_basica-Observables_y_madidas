{
 "cells": [
  {
   "cell_type": "markdown",
   "id": "a88c6562-4d1e-4142-ac3f-8ec2bf5c4b8d",
   "metadata": {},
   "source": [
    "# Teoría cuántica básica: Observables y medidas\n",
    "## Primer sistema\n",
    "El sistema consiste en una partícula confinada a un conjunto discreto de posiciones en una línea. El simulador debe permitir especificar el número de posiciones y un vector ket de estado asignando las amplitudes.\n",
    "\n",
    "1. El sistema debe calcular la probabilidad de encontrarlo en una posición en particular.\n",
    "\n",
    "2. El sistema si se le da otro vector Ket debe buscar la probabilidad de transitar del primer vector al segundo."
   ]
  },
  {
   "cell_type": "code",
   "execution_count": 20,
   "id": "9aeacafe-e91f-4064-aef4-9b4ad0c82b04",
   "metadata": {},
   "outputs": [
    {
     "name": "stdout",
     "output_type": "stream",
     "text": [
      "[0.05263158]\n",
      "[[1.]]\n"
     ]
    }
   ],
   "source": [
    "import numpy as np\n",
    "\n",
    "def main():\n",
    "\n",
    "    vector1 = np.array([[-3-1j], [0-2j], [0+1j], [2]])\n",
    "    posicion = 2\n",
    "    z = probabilidad(vector1, posicion)\n",
    "    print (z)\n",
    "    x = np.array([[1, -1j]])\n",
    "    y = np.array([[1j, 1]])\n",
    "    print(amplitud_transicion(x, y))\n",
    "\n",
    "def amplitud_transicion(vector1, vector2):\n",
    "    vector1_normalizado = vector1/np.linalg.norm(vector1)\n",
    "    vector2_normalizado = vector2/np.linalg.norm(vector2)\n",
    "    return (abs(np.dot(vector1_normalizado, vector2_normalizado.T.conj())))**2\n",
    "\n",
    "\n",
    "def probabilidad(vector, posicion):\n",
    "    mod = (abs(vector[posicion]))**2\n",
    "    sumatoria = 0\n",
    "    for i in vector:\n",
    "        sumatoria += (abs(i))**2\n",
    "    return mod/sumatoria\n",
    "main()"
   ]
  },
  {
   "cell_type": "markdown",
   "id": "bc3f0cfb-7eaa-403c-ab36-41b524b32997",
   "metadata": {},
   "source": [
    "## Segundo sistema\n",
    "\n",
    "1. Amplitud de transición. El sistema puede recibir dos vectores y calcular la probabilidad de transitar de el uno al otro después de hacer la observación"
   ]
  },
  {
   "cell_type": "code",
   "execution_count": 23,
   "id": "8d5f7e3e-3a24-4895-bc23-90637a62a700",
   "metadata": {},
   "outputs": [
    {
     "name": "stdout",
     "output_type": "stream",
     "text": [
      "La amplitud de transicion es: [[1.]]\n"
     ]
    }
   ],
   "source": [
    "import numpy as np\n",
    "\n",
    "def amplitud_transicion(v1, v2):\n",
    "    v1_n = v1/np.linalg.norm(v1)\n",
    "    v2_n = v2/np.linalg.norm(v2)\n",
    "    return (abs(np.dot(v1_n, v2_n.T.conj())))**2\n",
    "    \n",
    "def main():\n",
    "    v1 = np.array([[1, -1j]])\n",
    "    v2 = np.array([[1j, 1]])\n",
    "    print(\"La amplitud de transicion es:\", amplitud_transicion(v1, v2))\n",
    "\n",
    "main()"
   ]
  },
  {
   "cell_type": "markdown",
   "id": "8048b009-4f5d-4c46-a0e9-e1500890e758",
   "metadata": {},
   "source": [
    "2. Ahora con una matriz que describa un observable y un vector ket, el sistema revisa que la matriz sea hermitiana, y si lo es, calcula la media y la varianza del observable en el estado dado."
   ]
  },
  {
   "cell_type": "code",
   "execution_count": 17,
   "id": "4ca30309-f6a1-44d4-9e98-78ddced8bd66",
   "metadata": {},
   "outputs": [
    {
     "name": "stdout",
     "output_type": "stream",
     "text": [
      "Mean:  (2.5000000000000004+0j)\n",
      "Variance (0.25+0j)\n"
     ]
    }
   ],
   "source": [
    "import numpy as np\n",
    "\n",
    "def check_her(m_o):\n",
    "    return np.allclose(m_o, m_o.T.conj())\n",
    "\n",
    "def mean(m_o, vk):\n",
    "\n",
    "    if check_her(m_o):\n",
    "        return np.dot((np.dot(m_o, vk)).T.conj(), vk)\n",
    "    else:\n",
    "        print(\"Matrix is not Hermitian\")\n",
    "    \n",
    "def var(m_o, vk):\n",
    "    \n",
    "    if check_her(m_o):\n",
    "        I = np.array([[1, 0],\n",
    "                     [0, 1]])\n",
    "        delta = m_o - np.dot(mean(m_o, vk), I)\n",
    "        d = np.dot(delta, delta)\n",
    "        return np.dot(np.dot(d, vk).T.conj(), vk)\n",
    "    else:\n",
    "        print(\"Matrix is not Hermitian\")\n",
    "\n",
    "def main():\n",
    "    m_o = np.array([[1, -1j],\n",
    "                [1j, 2]])\n",
    "    vk = np.array([(np.sqrt(2)/2), (np.sqrt(2)/2)*1j])\n",
    "    \n",
    "    print (\"Mean: \", mean(m_o, vk))\n",
    "    print (\"Variance\", var(m_o, vk))\n",
    "\n",
    "main()"
   ]
  },
  {
   "cell_type": "markdown",
   "id": "d1e49592-db0e-4b7d-9d47-c8c00413757b",
   "metadata": {},
   "source": [
    "3. El sistema calcula los valores propios del observable y la probabilidad de que el sistema transite a alguno de los vectores propios después de la observación."
   ]
  },
  {
   "cell_type": "code",
   "execution_count": 35,
   "id": "2ddfbaf5-2b90-49fa-a4cb-c57a63b83547",
   "metadata": {},
   "outputs": [
    {
     "name": "stdout",
     "output_type": "stream",
     "text": [
      "Eigen vaule =  [0.38196601+0.j 2.61803399+0.j]\n",
      "Eigen vector =  [[ 0.85065081+0.j         -0.        -0.52573111j]\n",
      " [-0.        -0.52573111j  0.85065081+0.j        ]]\n",
      "La probabilidad de que el sistema transite de uno de los vectores propios al observable es:  0.052786404500042135\n"
     ]
    }
   ],
   "source": [
    "import numpy as np\n",
    "\n",
    "def amplitud_transicion(vector1, vector2):\n",
    "    vector1_normalizado = vector1/np.linalg.norm(vector1)\n",
    "    vector2_normalizado = vector2/np.linalg.norm(vector2)\n",
    "    return (abs(np.dot(vector1_normalizado, vector2_normalizado.T.conj())))**2\n",
    "\n",
    "def main():\n",
    "    m_o = np.array([[1, -1j],\n",
    "                   [1j, 2]])\n",
    "    vk = np.array([np.sqrt(2)/2, (np.sqrt(2)/2)*1j])\n",
    "    eigen_val, eigen_vec = np.linalg.eig(m_o)\n",
    "    eigen_vec = eigen_vec.T\n",
    "    print(\"Eigen vaule = \", eigen_val)\n",
    "    print(\"Eigen vector = \", eigen_vec)\n",
    "    print(\"La probabilidad de que el sistema transite de uno de los vectores propios al observable es: \", amplitud_transicion(eigen_vec[0], vk))\n",
    "    \n",
    "main()"
   ]
  },
  {
   "cell_type": "markdown",
   "id": "2dcd347c-750a-4483-8a6a-ddc3697865d0",
   "metadata": {},
   "source": [
    "4. Se considera la dinámica del sistema. Ahora con una serie de matrices Un el sistema calcula el estado final a partir de un estado inicial."
   ]
  },
  {
   "cell_type": "code",
   "execution_count": null,
   "id": "1631f468-28f9-4dcb-af82-45cd66a6d119",
   "metadata": {},
   "outputs": [],
   "source": [
    "import numpy as np\n",
    "def final():\n",
    "    \n",
    "def main():\n",
    "    un = np.array([])\n",
    "\n",
    "main()"
   ]
  },
  {
   "cell_type": "markdown",
   "id": "de92d752-84f0-48ed-9be4-46e4687f9dc6",
   "metadata": {},
   "source": [
    "## Ejercicios del libro\n",
    "\n",
    "4.3.1"
   ]
  },
  {
   "cell_type": "markdown",
   "id": "21a98fc3-d211-4448-803d-57b2fa68c21e",
   "metadata": {},
   "source": [
    "4.3.2"
   ]
  },
  {
   "cell_type": "markdown",
   "id": "b2bb83ce-6732-4609-8339-07f203334d35",
   "metadata": {},
   "source": [
    "4.4.1"
   ]
  },
  {
   "cell_type": "markdown",
   "id": "fe422497-fb67-4fca-892e-787b2aabc36e",
   "metadata": {},
   "source": [
    "4.4.2"
   ]
  },
  {
   "cell_type": "code",
   "execution_count": null,
   "id": "bdff6645-b81d-4df7-8c2e-64d48b795fbd",
   "metadata": {},
   "outputs": [],
   "source": []
  }
 ],
 "metadata": {
  "kernelspec": {
   "display_name": "Python 3 (ipykernel)",
   "language": "python",
   "name": "python3"
  },
  "language_info": {
   "codemirror_mode": {
    "name": "ipython",
    "version": 3
   },
   "file_extension": ".py",
   "mimetype": "text/x-python",
   "name": "python",
   "nbconvert_exporter": "python",
   "pygments_lexer": "ipython3",
   "version": "3.11.7"
  }
 },
 "nbformat": 4,
 "nbformat_minor": 5
}
