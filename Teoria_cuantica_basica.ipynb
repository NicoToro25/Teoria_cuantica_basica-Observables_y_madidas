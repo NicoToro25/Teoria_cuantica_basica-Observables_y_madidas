{
 "cells": [
  {
   "cell_type": "markdown",
   "id": "a88c6562-4d1e-4142-ac3f-8ec2bf5c4b8d",
   "metadata": {},
   "source": [
    "# Teoría cuántica básica: Observables y medidas\n",
    "## Primer sistema\n",
    "El sistema consiste en una partícula confinada a un conjunto discreto de posiciones en una línea. El simulador debe permitir especificar el número de posiciones y un vector ket de estado asignando las amplitudes.\n",
    "\n",
    "1. El sistema debe calcular la probabilidad de encontrarlo en una posición en particular.\n",
    "\n",
    "2. El sistema si se le da otro vector Ket debe buscar la probabilidad de transitar del primer vector al segundo."
   ]
  },
  {
   "cell_type": "code",
   "execution_count": 17,
   "id": "9aeacafe-e91f-4064-aef4-9b4ad0c82b04",
   "metadata": {},
   "outputs": [
    {
     "name": "stdout",
     "output_type": "stream",
     "text": [
      "[0.05263158]\n",
      "[[1.]]\n"
     ]
    }
   ],
   "source": [
    "import numpy as np\n",
    "\n",
    "def main():\n",
    "\n",
    "    vector1 = np.array([[-3-1j], [0-2j], [0+1j], [2]])\n",
    "    posicion = 2\n",
    "    z = probabilidad(vector1, posicion)\n",
    "    print (z)\n",
    "    x = np.array([[1, -1j]])\n",
    "    y = np.array([[1j, 1]])\n",
    "    print(probabilidad_transitar(x, y))\n",
    "\n",
    "def probabilidad_transitar(vector1, vector2):\n",
    "    vector1_normalizado = vector1/np.linalg.norm(vector1)\n",
    "    vector2_normalizado = vector2/np.linalg.norm(vector2)\n",
    "    return (abs(np.dot(vector1_normalizado, vector2_normalizado.T.conj())))**2\n",
    "\n",
    "\n",
    "def probabilidad(vector, posicion):\n",
    "    mod = (abs(vector[posicion]))**2\n",
    "    sumatoria = 0\n",
    "    for i in vector:\n",
    "        sumatoria += (abs(i))**2\n",
    "    return mod/sumatoria\n",
    "main()"
   ]
  },
  {
   "cell_type": "code",
   "execution_count": null,
   "id": "14dcc44f-40ac-440c-b17a-7941e39f5c6b",
   "metadata": {},
   "outputs": [],
   "source": []
  }
 ],
 "metadata": {
  "kernelspec": {
   "display_name": "Python 3 (ipykernel)",
   "language": "python",
   "name": "python3"
  },
  "language_info": {
   "codemirror_mode": {
    "name": "ipython",
    "version": 3
   },
   "file_extension": ".py",
   "mimetype": "text/x-python",
   "name": "python",
   "nbconvert_exporter": "python",
   "pygments_lexer": "ipython3",
   "version": "3.12.0"
  }
 },
 "nbformat": 4,
 "nbformat_minor": 5
}
